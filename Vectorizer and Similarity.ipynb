{
 "cells": [
  {
   "cell_type": "code",
   "execution_count": 10,
   "metadata": {},
   "outputs": [],
   "source": [
    "from sklearn.feature_extraction.text import CountVectorizer\n",
    "from sklearn.feature_extraction.text import TfidfVectorizer\n",
    "import pandas as pd\n",
    "import numpy as np"
   ]
  },
  {
   "cell_type": "code",
   "execution_count": 11,
   "metadata": {},
   "outputs": [
    {
     "name": "stdout",
     "output_type": "stream",
     "text": [
      "[[1 1 1 1 1 1 0]\n",
      " [1 0 0 1 1 1 1]]\n"
     ]
    }
   ],
   "source": [
    "vect = CountVectorizer(binary = True)\n",
    "corpus= [\"CNN is good optical character recognition\",\"optical character recognition is significant\"]\n",
    "vect.fit(corpus)\n",
    "print(vect.transform(corpus).toarray())"
   ]
  },
  {
   "cell_type": "code",
   "execution_count": 12,
   "metadata": {},
   "outputs": [
    {
     "name": "stdout",
     "output_type": "stream",
     "text": [
      "[[0.35464863 0.49844628 0.49844628 0.35464863 0.35464863 0.35464863\n",
      "  0.        ]\n",
      " [0.4090901  0.         0.         0.4090901  0.4090901  0.4090901\n",
      "  0.57496187]]\n"
     ]
    }
   ],
   "source": [
    "vect = TfidfVectorizer()\n",
    "corpus= [\"CNN is good optical character recognition\",\"optical character recognition is significant\"]\n",
    "vect.fit(corpus)\n",
    "print(vect.transform(corpus).toarray())"
   ]
  },
  {
   "cell_type": "code",
   "execution_count": 13,
   "metadata": {},
   "outputs": [
    {
     "name": "stdout",
     "output_type": "stream",
     "text": [
      "[[1.         0.81818021]\n",
      " [0.81818021 1.        ]]\n"
     ]
    }
   ],
   "source": [
    "from sklearn.metrics.pairwise import cosine_similarity\n",
    "similarity = cosine_similarity(vect.transform([\"Tessaeract is an optical character recognition system\",\"optical character recognition system is significant\"]))\n",
    "print(similarity)"
   ]
  },
  {
   "cell_type": "code",
   "execution_count": 14,
   "metadata": {},
   "outputs": [
    {
     "name": "stdout",
     "output_type": "stream",
     "text": [
      "[[1 0 0 1 1 0 0 0 1 1 0 1 1 1 1 0 1 1 0 0 1 0 1 1 1 1 1 1 0 0 1 1 1 1 1 1\n",
      "  1 0 0 1 1 1 1 1 1 1 1 1 1 1 1 1 0 1 0 1 1 0 0 0 0 0 1 1 1 1 1 0 1 1 0 0\n",
      "  0 1 1 1 1 0 1 1 1 1 1 1 1 1 0 0 0 1 1 1 1 1 1 1 0 1 1 0 0 0 0 0 0 0 0 1\n",
      "  0 0 1 0 1 0 1 0 0 0 1 1 1 0 1 1 1 0 1 1 0 1 0 1 1 1 1 1 0 0 1 1 0 0 1 1\n",
      "  0 1 1 0 0 1 1 1 1 1 0]\n",
      " [0 1 1 0 0 1 1 1 1 0 1 1 0 1 1 1 0 0 1 1 1 1 0 0 0 0 0 0 1 1 1 0 0 0 0 0\n",
      "  0 1 1 0 0 0 0 0 1 0 0 0 0 1 0 0 1 0 1 0 0 1 1 1 1 1 0 0 1 0 0 1 0 0 1 1\n",
      "  1 0 1 0 0 1 0 0 0 0 0 0 0 0 1 1 1 0 0 1 0 0 0 0 1 0 1 1 1 1 1 1 1 1 1 0\n",
      "  1 1 0 1 0 1 0 1 1 1 0 0 0 1 0 0 0 1 1 1 1 0 1 0 0 0 1 0 1 1 0 0 1 1 0 0\n",
      "  1 0 0 1 1 1 0 0 0 0 1]]\n"
     ]
    }
   ],
   "source": [
    "vect = CountVectorizer(binary = True)\n",
    "corpus= [\"in February, the month of love as endowed by our great gifting industrial complex. we are wrestling with what 'love for travel' means in tangible, life affecting terms. The early throes of discovering travel might not be too dissimilar to the beginnings of a feverish affair A fleeting scene. sound or feeling that at first arouses, then enchants and eventually. lures us into a hypnotic state. evoking woolly-eyed reveries about what could be. This world. however. is not the most conducive for long-term passion, the kind that demands unflinching sustenance in the midst of distractions from a thousand notifications, Passion has many rivals to contend with. And in flippantly announcing travel as our first love, we are not fully considering the influence our other paramours (work, relationships or money) exert on us, Travellers for life are compulsive.\",\"rekindles his passion for the German thinker while tracing picturesque hiking trails in the mountains of Switzerland it's a near-precise rendering of the lrmeicgue as a self-help book A young Kaag was an avowed Nietzsche acolyte but given the ravages of responsibilities and adulthood the witer put his affinity to test by undertaking physically enduring hikesthrough the alps, revisiting haunts that the philosopher escaped to in search of solitude and salve The journey's demands. Coupled with his own inner turmoil, are catnip for anybody feeling at cross purposes with their own life\"]\n",
    "corp=vect.fit(corpus)\n",
    "print(vect.transform(corpus).toarray())"
   ]
  },
  {
   "cell_type": "code",
   "execution_count": 15,
   "metadata": {},
   "outputs": [
    {
     "name": "stdout",
     "output_type": "stream",
     "text": [
      "[[0.07100991 0.         0.         0.07100991 0.07100991 0.\n",
      "  0.         0.         0.10104827 0.07100991 0.         0.15157241\n",
      "  0.07100991 0.10104827 0.05052414 0.         0.14201982 0.07100991\n",
      "  0.         0.         0.05052414 0.         0.07100991 0.07100991\n",
      "  0.07100991 0.07100991 0.07100991 0.07100991 0.         0.\n",
      "  0.05052414 0.07100991 0.07100991 0.07100991 0.07100991 0.07100991\n",
      "  0.07100991 0.         0.         0.07100991 0.07100991 0.07100991\n",
      "  0.07100991 0.07100991 0.05052414 0.07100991 0.14201982 0.07100991\n",
      "  0.07100991 0.15157241 0.07100991 0.07100991 0.         0.07100991\n",
      "  0.         0.07100991 0.07100991 0.         0.         0.\n",
      "  0.         0.         0.07100991 0.07100991 0.20209655 0.07100991\n",
      "  0.07100991 0.         0.07100991 0.07100991 0.         0.\n",
      "  0.         0.07100991 0.10104827 0.07100991 0.21302974 0.\n",
      "  0.07100991 0.07100991 0.07100991 0.07100991 0.07100991 0.07100991\n",
      "  0.07100991 0.07100991 0.         0.         0.         0.21302974\n",
      "  0.07100991 0.20209655 0.07100991 0.14201982 0.07100991 0.21302974\n",
      "  0.         0.07100991 0.10104827 0.         0.         0.\n",
      "  0.         0.         0.         0.         0.         0.07100991\n",
      "  0.         0.         0.07100991 0.         0.07100991 0.\n",
      "  0.07100991 0.         0.         0.         0.07100991 0.07100991\n",
      "  0.07100991 0.         0.07100991 0.07100991 0.07100991 0.\n",
      "  0.10104827 0.35366896 0.         0.07100991 0.         0.07100991\n",
      "  0.07100991 0.07100991 0.10104827 0.07100991 0.         0.\n",
      "  0.21302974 0.07100991 0.         0.         0.07100991 0.14201982\n",
      "  0.         0.14201982 0.14201982 0.         0.         0.10104827\n",
      "  0.07100991 0.07100991 0.07100991 0.07100991 0.        ]\n",
      " [0.         0.09010084 0.09010084 0.         0.         0.09010084\n",
      "  0.09010084 0.09010084 0.12821498 0.         0.09010084 0.06410749\n",
      "  0.         0.06410749 0.06410749 0.09010084 0.         0.\n",
      "  0.09010084 0.09010084 0.06410749 0.09010084 0.         0.\n",
      "  0.         0.         0.         0.         0.09010084 0.09010084\n",
      "  0.06410749 0.         0.         0.         0.         0.\n",
      "  0.         0.09010084 0.09010084 0.         0.         0.\n",
      "  0.         0.         0.06410749 0.         0.         0.\n",
      "  0.         0.12821498 0.         0.         0.09010084 0.\n",
      "  0.09010084 0.         0.         0.09010084 0.09010084 0.09010084\n",
      "  0.09010084 0.27030253 0.         0.         0.12821498 0.\n",
      "  0.         0.09010084 0.         0.         0.09010084 0.09010084\n",
      "  0.09010084 0.         0.06410749 0.         0.         0.09010084\n",
      "  0.         0.         0.         0.         0.         0.\n",
      "  0.         0.         0.09010084 0.09010084 0.09010084 0.\n",
      "  0.         0.25642997 0.         0.         0.         0.\n",
      "  0.18020169 0.         0.06410749 0.09010084 0.09010084 0.09010084\n",
      "  0.09010084 0.09010084 0.09010084 0.09010084 0.09010084 0.\n",
      "  0.09010084 0.09010084 0.         0.09010084 0.         0.09010084\n",
      "  0.         0.09010084 0.09010084 0.09010084 0.         0.\n",
      "  0.         0.09010084 0.         0.         0.         0.09010084\n",
      "  0.06410749 0.51285994 0.09010084 0.         0.09010084 0.\n",
      "  0.         0.         0.12821498 0.         0.09010084 0.09010084\n",
      "  0.         0.         0.09010084 0.09010084 0.         0.\n",
      "  0.09010084 0.         0.         0.09010084 0.09010084 0.12821498\n",
      "  0.         0.         0.         0.         0.09010084]]\n"
     ]
    }
   ],
   "source": [
    "vect1 = TfidfVectorizer()\n",
    "corpus= [\"in February, the month of love as endowed by our great gifting industrial complex. we are wrestling with what 'love for travel' means in tangible, life affecting terms. The early throes of discovering travel might not be too dissimilar to the beginnings of a feverish affair A fleeting scene. sound or feeling that at first arouses, then enchants and eventually. lures us into a hypnotic state. evoking woolly-eyed reveries about what could be. This world. however. is not the most conducive for long-term passion, the kind that demands unflinching sustenance in the midst of distractions from a thousand notifications, Passion has many rivals to contend with. And in flippantly announcing travel as our first love, we are not fully considering the influence our other paramours (work, relationships or money) exert on us, Travellers for life are compulsive.\",\"rekindles his passion for the German thinker while tracing picturesque hiking trails in the mountains of Switzerland it's a near-precise rendering of the lrmeicgue as a self-help book A young Kaag was an avowed Nietzsche acolyte but given the ravages of responsibilities and adulthood the witer put his affinity to test by undertaking physically enduring hikesthrough the alps, revisiting haunts that the philosopher escaped to in search of solitude and salve The journey's demands. Coupled with his own inner turmoil, are catnip for anybody feeling at cross purposes with their own life\"]\n",
    "vect1.fit(corpus)\n",
    "print(vect1.transform(corpus).toarray())"
   ]
  },
  {
   "cell_type": "code",
   "execution_count": 16,
   "metadata": {},
   "outputs": [
    {
     "name": "stdout",
     "output_type": "stream",
     "text": [
      "[[1.         0.18916706]\n",
      " [0.18916706 1.        ]]\n"
     ]
    }
   ],
   "source": [
    "from sklearn.metrics.pairwise import cosine_similarity\n",
    "similarity = cosine_similarity(vect.transform(corpus))\n",
    "print(similarity)"
   ]
  },
  {
   "cell_type": "code",
   "execution_count": 17,
   "metadata": {},
   "outputs": [
    {
     "name": "stdout",
     "output_type": "stream",
     "text": [
      "[[1.         0.36600426]\n",
      " [0.36600426 1.        ]]\n"
     ]
    }
   ],
   "source": [
    "from sklearn.metrics.pairwise import cosine_similarity\n",
    "similarity = cosine_similarity(vect1.transform(corpus))\n",
    "print(abs(similarity))"
   ]
  },
  {
   "cell_type": "code",
   "execution_count": null,
   "metadata": {},
   "outputs": [],
   "source": []
  }
 ],
 "metadata": {
  "kernelspec": {
   "display_name": "Python 3",
   "language": "python",
   "name": "python3"
  },
  "language_info": {
   "codemirror_mode": {
    "name": "ipython",
    "version": 3
   },
   "file_extension": ".py",
   "mimetype": "text/x-python",
   "name": "python",
   "nbconvert_exporter": "python",
   "pygments_lexer": "ipython3",
   "version": "3.6.7"
  }
 },
 "nbformat": 4,
 "nbformat_minor": 2
}
