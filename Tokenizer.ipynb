{
 "cells": [
  {
   "cell_type": "code",
   "execution_count": 1,
   "metadata": {},
   "outputs": [],
   "source": [
    "import nltk\n",
    "texts=[\"\"\"Acer also sells gaming PCs and accessories under its Predator brand. In the early 2000s, Acer implemented a new business model, shifting from a manufacturer to a designer, marketer and distributor of products, while performing production processes via contract manufacturers.\"\"\"]"
   ]
  },
  {
   "cell_type": "code",
   "execution_count": 2,
   "metadata": {},
   "outputs": [
    {
     "name": "stdout",
     "output_type": "stream",
     "text": [
      "Acer also sells gaming PCs and accessories under its Predator brand.\n",
      "[('Acer', 'NNP'), ('also', 'RB'), ('sells', 'VBZ'), ('gaming', 'VBG'), ('PCs', 'NNS'), ('and', 'CC'), ('accessories', 'NNS'), ('under', 'IN'), ('its', 'PRP$'), ('Predator', 'NNP'), ('brand', 'NN'), ('.', '.')]\n",
      "In the early 2000s, Acer implemented a new business model, shifting from a manufacturer to a designer, marketer and distributor of products, while performing production processes via contract manufacturers.\n",
      "[('In', 'IN'), ('the', 'DT'), ('early', 'JJ'), ('2000s', 'CD'), (',', ','), ('Acer', 'NNP'), ('implemented', 'VBD'), ('a', 'DT'), ('new', 'JJ'), ('business', 'NN'), ('model', 'NN'), (',', ','), ('shifting', 'VBG'), ('from', 'IN'), ('a', 'DT'), ('manufacturer', 'NN'), ('to', 'TO'), ('a', 'DT'), ('designer', 'NN'), (',', ','), ('marketer', 'NN'), ('and', 'CC'), ('distributor', 'NN'), ('of', 'IN'), ('products', 'NNS'), (',', ','), ('while', 'IN'), ('performing', 'VBG'), ('production', 'NN'), ('processes', 'VBZ'), ('via', 'IN'), ('contract', 'NN'), ('manufacturers', 'NNS'), ('.', '.')]\n"
     ]
    }
   ],
   "source": [
    "for text in texts:\n",
    "    sentences= nltk.sent_tokenize(text)\n",
    "    for sentence in sentences:\n",
    "        words=nltk.word_tokenize(sentence)\n",
    "        print(sentence)\n",
    "        tagged_words=nltk.pos_tag(words)\n",
    "        print(tagged_words)"
   ]
  },
  {
   "cell_type": "code",
   "execution_count": 3,
   "metadata": {},
   "outputs": [
    {
     "data": {
      "text/plain": [
       "['The', 'Party', 'was', 'sooooo', 'fun', ':D', '#superfun']"
      ]
     },
     "execution_count": 3,
     "metadata": {},
     "output_type": "execute_result"
    }
   ],
   "source": [
    "#tweet tokenizer\n",
    "import nltk\n",
    "from nltk.tokenize import TweetTokenizer\n",
    "text='The Party was sooooo fun :D #superfun'\n",
    "twtkn=TweetTokenizer()\n",
    "twtkn.tokenize(text)"
   ]
  },
  {
   "cell_type": "code",
   "execution_count": null,
   "metadata": {},
   "outputs": [],
   "source": []
  }
 ],
 "metadata": {
  "kernelspec": {
   "display_name": "Python 3",
   "language": "python",
   "name": "python3"
  },
  "language_info": {
   "codemirror_mode": {
    "name": "ipython",
    "version": 3
   },
   "file_extension": ".py",
   "mimetype": "text/x-python",
   "name": "python",
   "nbconvert_exporter": "python",
   "pygments_lexer": "ipython3",
   "version": "3.6.7"
  }
 },
 "nbformat": 4,
 "nbformat_minor": 2
}
